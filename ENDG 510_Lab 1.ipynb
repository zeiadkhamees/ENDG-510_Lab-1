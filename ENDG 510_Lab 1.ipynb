{
 "cells": [
  {
   "cell_type": "code",
   "execution_count": 1,
   "id": "3e931f4c-7f5a-4172-ab23-2037a5166e3e",
   "metadata": {},
   "outputs": [],
   "source": [
    "#load class \n",
    "import numpy as np  \n",
    "import pandas as pd # in case it's not installed then install using conda create -c conda-forge -n name_of_my_env python pandas \n",
    "# more installations information can be found: https://pandas.pydata.org/docs/getting_started/install.html \n",
    "import os \n",
    "#load sklearn module for creating and evaluating ML models. In case sklearn isn't installed,  \n",
    "#follow this link https://scikit-learn.org/stable/install.html for further details on the installation process.  \n",
    "from sklearn.neighbors import KNeighborsClassifier #load your classifier. In this code, I have used KNN. You can choose other algorithms. You have to use at least 3 to complete this. \n",
    "from sklearn.preprocessing import StandardScaler #module for perform scaling "
   ]
  },
  {
   "cell_type": "code",
   "execution_count": 2,
   "id": "ed9b17f5-e3df-4d2a-9aed-102e2874b248",
   "metadata": {},
   "outputs": [],
   "source": [
    "from sklearn.model_selection import train_test_split #module for splitting datatset  \n",
    "from sklearn import metrics #module for evaluating performance  "
   ]
  },
  {
   "cell_type": "code",
   "execution_count": 3,
   "id": "db4971c8-c88a-4c04-86a2-bd0826b8d75f",
   "metadata": {},
   "outputs": [],
   "source": [
    "# Additional Dependencies to be used with different algorithms\n",
    "\n",
    "from sklearn.model_selection import train_test_split, cross_val_score\n",
    "from sklearn.linear_model import LogisticRegression\n",
    "from sklearn.svm import SVC\n",
    "from sklearn.metrics import accuracy_score, classification_report"
   ]
  },
  {
   "cell_type": "code",
   "execution_count": 4,
   "id": "a7e3d60a-b426-42a7-bc6f-b6038f837591",
   "metadata": {},
   "outputs": [
    {
     "data": {
      "text/html": [
       "<div>\n",
       "<style scoped>\n",
       "    .dataframe tbody tr th:only-of-type {\n",
       "        vertical-align: middle;\n",
       "    }\n",
       "\n",
       "    .dataframe tbody tr th {\n",
       "        vertical-align: top;\n",
       "    }\n",
       "\n",
       "    .dataframe thead th {\n",
       "        text-align: right;\n",
       "    }\n",
       "</style>\n",
       "<table border=\"1\" class=\"dataframe\">\n",
       "  <thead>\n",
       "    <tr style=\"text-align: right;\">\n",
       "      <th></th>\n",
       "      <th>Temp</th>\n",
       "      <th>Humd</th>\n",
       "      <th>Label</th>\n",
       "    </tr>\n",
       "  </thead>\n",
       "  <tbody>\n",
       "    <tr>\n",
       "      <th>0</th>\n",
       "      <td>26.2</td>\n",
       "      <td>27</td>\n",
       "      <td>1</td>\n",
       "    </tr>\n",
       "    <tr>\n",
       "      <th>1</th>\n",
       "      <td>26.2</td>\n",
       "      <td>27</td>\n",
       "      <td>1</td>\n",
       "    </tr>\n",
       "    <tr>\n",
       "      <th>2</th>\n",
       "      <td>26.2</td>\n",
       "      <td>27</td>\n",
       "      <td>1</td>\n",
       "    </tr>\n",
       "    <tr>\n",
       "      <th>3</th>\n",
       "      <td>26.2</td>\n",
       "      <td>27</td>\n",
       "      <td>1</td>\n",
       "    </tr>\n",
       "    <tr>\n",
       "      <th>4</th>\n",
       "      <td>26.0</td>\n",
       "      <td>27</td>\n",
       "      <td>1</td>\n",
       "    </tr>\n",
       "  </tbody>\n",
       "</table>\n",
       "</div>"
      ],
      "text/plain": [
       "   Temp  Humd  Label\n",
       "0  26.2    27      1\n",
       "1  26.2    27      1\n",
       "2  26.2    27      1\n",
       "3  26.2    27      1\n",
       "4  26.0    27      1"
      ]
     },
     "execution_count": 4,
     "metadata": {},
     "output_type": "execute_result"
    }
   ],
   "source": [
    "#load our original data (~2000 real points collected from sensor)\n",
    "df_full = pd.read_csv(\"data.csv\") #change the name accordingly \n",
    "df_full.head() # prints top 5 rows from the datatset to check data is load or not "
   ]
  },
  {
   "cell_type": "code",
   "execution_count": 5,
   "id": "f1b3bec6-d231-44c0-8a9f-a906414b86c9",
   "metadata": {},
   "outputs": [
    {
     "name": "stdout",
     "output_type": "stream",
     "text": [
      "Original rows: 2001\n",
      "Original label counts:\n",
      " 1    2001\n",
      "Name: Label, dtype: int64\n"
     ]
    }
   ],
   "source": [
    "print(\"Original rows:\", len(df_full))\n",
    "print(\"Original label counts:\\n\", df_full[\"Label\"].value_counts(dropna=False))"
   ]
  },
  {
   "cell_type": "markdown",
   "id": "6b5d2cfd-6a2c-42aa-9ca3-c4c3d8334da7",
   "metadata": {},
   "source": [
    "## Keeping the first 1000 real points (label = 1)\n",
    "Since we only needed 1000 points for this lab; we will keep only 1000 out of the 2001 data points that we currently have."
   ]
  },
  {
   "cell_type": "code",
   "execution_count": 6,
   "id": "60feb474-5efc-4262-852f-a85aef06e362",
   "metadata": {},
   "outputs": [
    {
     "name": "stdout",
     "output_type": "stream",
     "text": [
      "Real points kept: 1000\n",
      "   Temp  Humd  Label\n",
      "0  26.2    27      1\n",
      "1  26.2    27      1\n",
      "2  26.2    27      1\n",
      "3  26.2    27      1\n",
      "4  26.0    27      1\n"
     ]
    }
   ],
   "source": [
    "# Keeping exactly the first 1000 rows as our real positives (Label=1)\n",
    "real_1000 = df_full.iloc[:1000].copy()\n",
    "\n",
    "# Ensuring the label is 1 (in case the file differs)\n",
    "real_1000[\"Label\"] = 1\n",
    "\n",
    "print(\"Real points kept:\", len(real_1000))\n",
    "print(real_1000.head())"
   ]
  },
  {
   "cell_type": "markdown",
   "id": "fab4c81f-b019-44c0-81c1-bc94bb613fcb",
   "metadata": {},
   "source": [
    "## Creating 1000 fake points (label = 0)\n",
    "This will allow two distict classes (Label = 0 and Label = 1) so that the model classifier can learn from the data. "
   ]
  },
  {
   "cell_type": "code",
   "execution_count": 7,
   "id": "73152f34-4d58-4c95-baf3-0cc940fdd99c",
   "metadata": {},
   "outputs": [],
   "source": [
    "temp_col = \"Temp\"\n",
    "hum_col  = \"Humd\"\n",
    "label_col= \"Label\"\n",
    "\n",
    "# Copying the feature columns\n",
    "fake_1000 = real_1000[[temp_col, hum_col]].copy()\n",
    "fake_1000[label_col] = 0\n",
    "\n",
    "# Fixed, simple shifts so that Label 0 differs from Label 1\n",
    "fake_1000[temp_col] = fake_1000[temp_col] - 1.0    # 1°C lower\n",
    "fake_1000[hum_col]  = fake_1000[hum_col]  - 5.0    # 5% RH lower\n",
    "\n",
    "# Keeping humidity in [0, 100]\n",
    "fake_1000[hum_col] = fake_1000[hum_col].clip(0, 100)\n",
    "\n",
    "# Adding some noise to the data \n",
    "import numpy as np\n",
    "np.random.seed(42)\n",
    "\n",
    "fake_1000[temp_col] += np.random.normal(0, 0.3, size=len(fake_1000))\n",
    "fake_1000[hum_col]  += np.random.normal(0, 0.6, size=len(fake_1000))\n",
    "\n",
    "# Rounding to 1 decimal place\n",
    "fake_1000[temp_col] = fake_1000[temp_col].round(1)\n",
    "fake_1000[hum_col]  = fake_1000[hum_col].round(1)\n",
    "\n",
    "# Re-clip humidity to [0,100]\n",
    "fake_1000[hum_col] = fake_1000[hum_col].clip(0, 100)"
   ]
  },
  {
   "cell_type": "code",
   "execution_count": 8,
   "id": "e78e77a4-7a68-406e-9be5-7f3467a98297",
   "metadata": {},
   "outputs": [
    {
     "name": "stdout",
     "output_type": "stream",
     "text": [
      "1000\n",
      "   Temp  Humd  Label\n",
      "0  25.3  22.8      0\n",
      "1  25.2  22.6      0\n",
      "2  25.4  22.0      0\n",
      "3  25.7  21.6      0\n",
      "4  24.9  22.4      0\n"
     ]
    }
   ],
   "source": [
    "print(len(fake_1000))\n",
    "print(fake_1000.head())"
   ]
  },
  {
   "cell_type": "markdown",
   "id": "3a6b173e-046a-45a6-b767-ddc04911f311",
   "metadata": {},
   "source": [
    "## Combining Real and Fake data points into one CSV File"
   ]
  },
  {
   "cell_type": "code",
   "execution_count": 9,
   "id": "621fd6dc-3f34-47b8-8b04-f19a72b21bd8",
   "metadata": {},
   "outputs": [
    {
     "name": "stdout",
     "output_type": "stream",
     "text": [
      "Combined (before dropng duplicates): 2000\n",
      "0    1000\n",
      "1    1000\n",
      "Name: Label, dtype: int64\n"
     ]
    }
   ],
   "source": [
    "# Combine and shuffle\n",
    "df_combined = pd.concat([real_1000, fake_1000], ignore_index=True).sample(frac=1.0, random_state=42).reset_index(drop=True)\n",
    "print(\"Combined (before dropng duplicates):\", len(df_combined))\n",
    "print(df_combined[label_col].value_counts())"
   ]
  },
  {
   "cell_type": "code",
   "execution_count": 10,
   "id": "42faf999-77d4-470c-835c-9f3614ce9064",
   "metadata": {},
   "outputs": [
    {
     "name": "stdout",
     "output_type": "stream",
     "text": [
      "Missing Values:\n",
      " Temp     0\n",
      "Humd     0\n",
      "Label    0\n",
      "dtype: int64\n"
     ]
    }
   ],
   "source": [
    "# Check for missing values \n",
    "missing_values = df_combined.isnull().sum() \n",
    "print(\"Missing Values:\\n\", missing_values)"
   ]
  },
  {
   "cell_type": "code",
   "execution_count": 11,
   "id": "889cfd7f-6c6e-45c3-b11f-12345eadc6b7",
   "metadata": {},
   "outputs": [
    {
     "name": "stdout",
     "output_type": "stream",
     "text": [
      "Rows after drop_duplicates: 1095\n",
      "Label counts after drop_duplicates:\n",
      " 0    956\n",
      "1    139\n",
      "Name: Label, dtype: int64\n"
     ]
    }
   ],
   "source": [
    "# remove duplicates (as shown in the lab procedure)\n",
    "df_balanced = df_combined.drop_duplicates().reset_index(drop=True) \n",
    "\n",
    "print(\"Rows after drop_duplicates:\", len(df_balanced))  # Rows after drop_duplicates \n",
    "print(\"Label counts after drop_duplicates:\\n\", df_balanced[label_col].value_counts())"
   ]
  },
  {
   "cell_type": "markdown",
   "id": "61ea01ef-7ed8-45bf-a4d9-629f5c64adec",
   "metadata": {},
   "source": [
    "**The above data points are a result of the following:**\n",
    "- Label 0 has 956 data points, as the data is randomized with a lot of noise with unique values.\n",
    "- Label 1 has 139 data points, as the sensor read the measurements accurately.\n",
    "\n",
    "This shows that there was many duplicates in the real data collected from the sensor compared to the fake points that we created randomly within an accepted range. "
   ]
  },
  {
   "cell_type": "code",
   "execution_count": 12,
   "id": "e113e093-e03e-4186-89cb-12149542e58e",
   "metadata": {},
   "outputs": [],
   "source": [
    "# saving this CSV file as we we’ll use it for modeling\n",
    "df_balanced.to_csv(\"data_balanced.csv\", index=False)"
   ]
  },
  {
   "cell_type": "markdown",
   "id": "9cdb30c9-5398-498f-99b4-3d0610bb432f",
   "metadata": {},
   "source": [
    "## Training the models:"
   ]
  },
  {
   "cell_type": "code",
   "execution_count": 13,
   "id": "a3741b92-d32e-4c51-99d6-d31424ecbe65",
   "metadata": {},
   "outputs": [
    {
     "name": "stdout",
     "output_type": "stream",
     "text": [
      "(1095, 3)\n",
      "   Temp  Humd  Label\n",
      "0  30.0  87.9      0\n",
      "1  26.8  52.0      1\n",
      "2  26.3  24.9      0\n",
      "3  30.0  89.0      1\n",
      "4  26.1  23.7      0\n"
     ]
    }
   ],
   "source": [
    "df = pd.read_csv(\"data_balanced.csv\")   # reading the new CSV file with cleaned data \n",
    "print(df.shape)\n",
    "print(df.head())"
   ]
  },
  {
   "cell_type": "code",
   "execution_count": 14,
   "id": "bb31454e-e448-4012-95f1-38afaed9e22c",
   "metadata": {},
   "outputs": [],
   "source": [
    "# prepare features \n",
    "x = df.drop(['Label'],axis=1) #remove class or label  \n",
    "y = df['Label'] #load label "
   ]
  },
  {
   "cell_type": "code",
   "execution_count": 15,
   "id": "0de5af8f-b71d-427a-b539-62fda8a7cfa8",
   "metadata": {},
   "outputs": [],
   "source": [
    "x_train, x_test, y_train, y_test = train_test_split(\n",
    "    x, y, test_size = 0.2, stratify=y, random_state=42) #split datatset. Here ratio is 80:20. Change accordingly \n",
    "\n",
    "### Used \"stratify=y\" to preserve the class proportions of our target y in both train and test sets since our data size is relatively small (209 data points)\n",
    "### Used \"random_state=int\" to set as a random seed so that the split is reproducable to make comparing easier. "
   ]
  },
  {
   "cell_type": "code",
   "execution_count": 16,
   "id": "856f95a9-a1c6-444b-9263-070d0375b0a3",
   "metadata": {},
   "outputs": [],
   "source": [
    "# Scale the data using standardization \n",
    "scaler = StandardScaler() \n",
    "x_train = scaler.fit_transform(x_train) #scale training set \n",
    "x_test = scaler.transform(x_test) #scale test set "
   ]
  },
  {
   "cell_type": "code",
   "execution_count": 17,
   "id": "d7c10dbe-21b2-4081-8ce3-96cf2e406f53",
   "metadata": {},
   "outputs": [],
   "source": [
    "z = KNeighborsClassifier(n_neighbors=3) # KNN classifier for 3 neighbours \n",
    "KNN = z.fit(x_train,y_train) # start training\n",
    "predict = KNN.predict(x_test) # performance in the test set "
   ]
  },
  {
   "cell_type": "code",
   "execution_count": 18,
   "id": "fb7c65e0-0ee6-45a1-a379-b88ad274549f",
   "metadata": {},
   "outputs": [
    {
     "name": "stdout",
     "output_type": "stream",
     "text": [
      "KNN accuracy: 0.91324200913242\n"
     ]
    }
   ],
   "source": [
    "print(\"KNN accuracy:\", metrics.accuracy_score(y_test,predict)) # evaluating the performance based on accuracy "
   ]
  },
  {
   "cell_type": "code",
   "execution_count": 19,
   "id": "bcbaa812-20fa-4b9c-b79f-b028079fa433",
   "metadata": {},
   "outputs": [
    {
     "name": "stdout",
     "output_type": "stream",
     "text": [
      "Logistic Regression accuracy: 0.626\n",
      "SVM (RBF) accuracy: 0.708\n",
      "Random Forest accuracy: 0.922\n"
     ]
    }
   ],
   "source": [
    "### Training 3 more classifiers\n",
    "from sklearn.linear_model import LogisticRegression\n",
    "from sklearn.svm import SVC\n",
    "from sklearn.ensemble import RandomForestClassifier\n",
    "from sklearn.metrics import accuracy_score\n",
    "\n",
    "# 1) Logistic Regression \n",
    "logreg = LogisticRegression(max_iter=1000, class_weight=\"balanced\", random_state=42)\n",
    "logreg.fit(x_train, y_train)\n",
    "acc_logreg = accuracy_score(y_test, logreg.predict(x_test))\n",
    "\n",
    "# 2) Support Vector Machine (RBF kernel)\n",
    "svm_rbf = SVC(kernel=\"rbf\", class_weight=\"balanced\", random_state=42)\n",
    "svm_rbf.fit(x_train, y_train)\n",
    "acc_svm = accuracy_score(y_test, svm_rbf.predict(x_test))\n",
    "\n",
    "# 3) Random Forest (tree-based)\n",
    "rf = RandomForestClassifier(n_estimators=200, max_depth=None, random_state=42)\n",
    "rf.fit(x_train, y_train)\n",
    "acc_rf = accuracy_score(y_test, rf.predict(x_test))\n",
    "\n",
    "print(f\"Logistic Regression accuracy: {acc_logreg:.3f}\")\n",
    "print(f\"SVM (RBF) accuracy: {acc_svm:.3f}\")\n",
    "print(f\"Random Forest accuracy: {acc_rf:.3f}\")\n"
   ]
  },
  {
   "cell_type": "code",
   "execution_count": 20,
   "id": "431744ec-0b96-4275-95df-3d5af4adbd62",
   "metadata": {},
   "outputs": [],
   "source": [
    "# library for save and load scikit-learn models \n",
    "import pickle \n",
    "\n",
    "# file names of each model, recommending *.pickle as a file extension \n",
    "filename1 = \"KNN.pickle\" \n",
    "filename2 = \"logreg.pickle\"\n",
    "filename3 = \"svm_rbf.pickle\"\n",
    "filename4 = \"random_forest.pickle\"\n",
    "\n",
    "# save all models \n",
    "pickle.dump(z, open(filename1, \"wb\"))\n",
    "pickle.dump(logreg, open(filename2, \"wb\"))\n",
    "pickle.dump(svm_rbf, open(filename3, \"wb\"))\n",
    "pickle.dump(rf, open(filename4, \"wb\"))"
   ]
  },
  {
   "cell_type": "code",
   "execution_count": null,
   "id": "6f699e9a-c51f-4718-96e0-6b969ff60a6f",
   "metadata": {},
   "outputs": [
    {
     "name": "stdout",
     "output_type": "stream",
     "text": [
      "          Model  Accuracy  Precision(macro)  Recall(macro)  F1(macro)\n",
      "3  RandomForest     0.922             0.842          0.788      0.811\n",
      "0           KNN     0.913             0.833          0.737      0.774\n",
      "2       SVM_RBF     0.708             0.622          0.756      0.612\n",
      "1        LogReg     0.626             0.534          0.572      0.502\n"
     ]
    }
   ],
   "source": [
    "# Metrics table for comparison amongst the 4 models\n",
    "\n",
    "import numpy as np\n",
    "import pandas as pd\n",
    "from sklearn.metrics import accuracy_score, precision_recall_fscore_support\n",
    "\n",
    "models = {\n",
    "    \"KNN\": z,                # KNeighborsClassifier\n",
    "    \"LogReg\": logreg,        # LogisticRegression\n",
    "    \"SVM_RBF\": svm_rbf,      # SVC\n",
    "    \"RandomForest\": rf       # RandomForestClassifier\n",
    "}\n",
    "\n",
    "rows = []\n",
    "for name, mdl in models.items():\n",
    "    y_hat = mdl.predict(x_test)   \n",
    "    acc = accuracy_score(y_test, y_hat)\n",
    "    # Macro = average across classes (treats classes evenly)\n",
    "    prec, rec, f1, _ = precision_recall_fscore_support(y_test, y_hat, average=\"macro\", zero_division=0)\n",
    "    rows.append([name, acc, prec, rec, f1])\n",
    "\n",
    "results_df = pd.DataFrame(rows, columns=[\"Model\",\"Accuracy\",\"Precision(macro)\",\"Recall(macro)\",\"F1(macro)\"])\n",
    "print(results_df.sort_values(\"Accuracy\", ascending=False).round(3))\n",
    "\n"
   ]
  },
  {
   "cell_type": "markdown",
   "id": "e9a36ff2-8d3d-4526-b027-0a127e31b56d",
   "metadata": {},
   "source": [
    "## Confusion Matrices"
   ]
  },
  {
   "cell_type": "code",
   "execution_count": 24,
   "id": "eb8a87f0-c2a6-4acd-b10b-15089b5946c2",
   "metadata": {},
   "outputs": [
    {
     "data": {
      "image/png": "[encoded data removed]",
      "text/plain": [
       "<Figure size 640x480 with 2 Axes>"
      ]
     },
     "metadata": {},
     "output_type": "display_data"
    }
   ],
   "source": [
    "# KNN \n",
    "\n",
    "import matplotlib.pyplot as plt\n",
    "from sklearn.metrics import confusion_matrix, ConfusionMatrixDisplay\n",
    "\n",
    "def show_confmat(model, name):\n",
    "    y_hat = model.predict(x_test)\n",
    "    cm = confusion_matrix(y_test, y_hat, labels=[0,1])\n",
    "    disp = ConfusionMatrixDisplay(confusion_matrix=cm, display_labels=[0,1])\n",
    "    disp.plot(values_format=\"d\")\n",
    "    plt.title(f\"Confusion Matrix — {name}\")\n",
    "    plt.tight_layout()\n",
    "    plt.show()\n",
    "\n",
    "show_confmat(z, \"KNN\")\n"
   ]
  },
  {
   "cell_type": "code",
   "execution_count": 25,
   "id": "aa63d1f6",
   "metadata": {},
   "outputs": [
    {
     "data": {
      "image/png": "[encoded data removed]",
      "text/plain": [
       "<Figure size 640x480 with 2 Axes>"
      ]
     },
     "metadata": {},
     "output_type": "display_data"
    }
   ],
   "source": [
    "import matplotlib.pyplot as plt\n",
    "from sklearn.metrics import confusion_matrix, ConfusionMatrixDisplay\n",
    "\n",
    "def show_confmat(model, name):\n",
    "    y_hat = model.predict(x_test)\n",
    "    cm = confusion_matrix(y_test, y_hat, labels=[0,1])\n",
    "    disp = ConfusionMatrixDisplay(confusion_matrix=cm, display_labels=[0,1])\n",
    "    disp.plot(values_format=\"d\")\n",
    "    plt.title(f\"Confusion Matrix — {name}\")\n",
    "    plt.tight_layout()\n",
    "    plt.show()\n",
    "\n",
    "show_confmat(logreg, \"Logistic Regression\")\n",
    "\n"
   ]
  },
  {
   "cell_type": "code",
   "execution_count": 26,
   "id": "46b36770",
   "metadata": {},
   "outputs": [
    {
     "data": {
      "image/png": "[encoded data removed]",
      "text/plain": [
       "<Figure size 640x480 with 2 Axes>"
      ]
     },
     "metadata": {},
     "output_type": "display_data"
    }
   ],
   "source": [
    "import matplotlib.pyplot as plt\n",
    "from sklearn.metrics import confusion_matrix, ConfusionMatrixDisplay\n",
    "\n",
    "def show_confmat(model, name):\n",
    "    y_hat = model.predict(x_test)\n",
    "    cm = confusion_matrix(y_test, y_hat, labels=[0,1])\n",
    "    disp = ConfusionMatrixDisplay(confusion_matrix=cm, display_labels=[0,1])\n",
    "    disp.plot(values_format=\"d\")\n",
    "    plt.title(f\"Confusion Matrix — {name}\")\n",
    "    plt.tight_layout()\n",
    "    plt.show()\n",
    "\n",
    "\n",
    "show_confmat(svm_rbf, \"SVM (RBF)\")\n",
    "\n"
   ]
  },
  {
   "cell_type": "code",
   "execution_count": 27,
   "id": "37ccc057",
   "metadata": {},
   "outputs": [
    {
     "data": {
      "image/png": "[encoded data removed]",
      "text/plain": [
       "<Figure size 640x480 with 2 Axes>"
      ]
     },
     "metadata": {},
     "output_type": "display_data"
    }
   ],
   "source": [
    "import matplotlib.pyplot as plt\n",
    "from sklearn.metrics import confusion_matrix, ConfusionMatrixDisplay\n",
    "\n",
    "def show_confmat(model, name):\n",
    "    y_hat = model.predict(x_test)\n",
    "    cm = confusion_matrix(y_test, y_hat, labels=[0,1])\n",
    "    disp = ConfusionMatrixDisplay(confusion_matrix=cm, display_labels=[0,1])\n",
    "    disp.plot(values_format=\"d\")\n",
    "    plt.title(f\"Confusion Matrix — {name}\")\n",
    "    plt.tight_layout()\n",
    "    plt.show()\n",
    "\n",
    "show_confmat(rf, \"Random Forest\")\n"
   ]
  }
 ],
 "metadata": {
  "kernelspec": {
   "display_name": "endg411",
   "language": "python",
   "name": "python3"
  },
  "language_info": {
   "codemirror_mode": {
    "name": "ipython",
    "version": 3
   },
   "file_extension": ".py",
   "mimetype": "text/x-python",
   "name": "python",
   "nbconvert_exporter": "python",
   "pygments_lexer": "ipython3",
   "version": "3.10.8"
  }
 },
 "nbformat": 4,
 "nbformat_minor": 5
}
